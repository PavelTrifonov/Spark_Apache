{
 "cells": [
  {
   "cell_type": "code",
   "execution_count": null,
   "metadata": {},
   "outputs": [],
   "source": [
    "!pip install pyspark"
   ]
  },
  {
   "cell_type": "code",
   "execution_count": null,
   "metadata": {},
   "outputs": [],
   "source": [
    "import pyspark\n",
    "from pyspark import SparkContext\n",
    "from pyspark.sql import SparkSession"
   ]
  },
  {
   "cell_type": "code",
   "execution_count": null,
   "metadata": {},
   "outputs": [],
   "source": [
    "sc = SparkContext(\"local\", \"Max_len\")\n",
    "rdd = sc.parallelize([1, 2, 3, 5, 6, 7, 12, 13, 14, 14, 15, 15, 25, 31, 32, 33, 34, 35])"
   ]
  },
  {
   "cell_type": "code",
   "execution_count": null,
   "metadata": {},
   "outputs": [],
   "source": [
    "def search_max_len(index, iter):\n",
    "    max_len = 0\n",
    "    max_subsequence = []\n",
    "    current_len = 1\n",
    "    current_subsequence = []\n",
    "    for num in iter:\n",
    "        # Если текущий элемент является следующим за предыдущим элементом в последовательности\n",
    "        if current_subsequence and num == current_subsequence[-1] + 1:\n",
    "            current_len += 1\n",
    "            current_subsequence.append(num)\n",
    "        else:\n",
    "            # Если текущая последовательность превышает максимальную\n",
    "            if current_len > max_len:\n",
    "                max_len = current_len\n",
    "                max_subsequence = current_subsequence[:]\n",
    "            # Начинаем новую последовательность\n",
    "            current_len = 1\n",
    "            current_subsequence = [num]\n",
    "    # Проверяем, превышает ли последовательность в конце RDD максимальную длину\n",
    "    if current_len > max_len:\n",
    "        max_len = current_len\n",
    "        max_subsequence = current_subsequence[:]\n",
    "    return max_len, max_subsequence"
   ]
  },
  {
   "cell_type": "code",
   "execution_count": null,
   "metadata": {},
   "outputs": [],
   "source": [
    "result = rdd.mapPartitionsWithIndex(search_max_len)\n",
    "result.collect()\n",
    "sc.stop()"
   ]
  }
 ],
 "metadata": {
  "language_info": {
   "name": "python"
  }
 },
 "nbformat": 4,
 "nbformat_minor": 2
}
