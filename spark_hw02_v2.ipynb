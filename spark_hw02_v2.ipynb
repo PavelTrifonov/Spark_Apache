{
  "nbformat": 4,
  "nbformat_minor": 0,
  "metadata": {
    "colab": {
      "provenance": []
    },
    "kernelspec": {
      "name": "python3",
      "display_name": "Python 3"
    },
    "language_info": {
      "name": "python"
    }
  },
  "cells": [
    {
      "cell_type": "code",
      "execution_count": 1,
      "metadata": {
        "colab": {
          "base_uri": "https://localhost:8080/"
        },
        "id": "5SzDJ70M_PrM",
        "outputId": "8222b177-58b1-4d77-b46f-19506a7ef539"
      },
      "outputs": [
        {
          "output_type": "stream",
          "name": "stdout",
          "text": [
            "Collecting pyspark\n",
            "  Downloading pyspark-3.5.1.tar.gz (317.0 MB)\n",
            "\u001b[2K     \u001b[90m━━━━━━━━━━━━━━━━━━━━━━━━━━━━━━━━━━━━━━━━\u001b[0m \u001b[32m317.0/317.0 MB\u001b[0m \u001b[31m2.3 MB/s\u001b[0m eta \u001b[36m0:00:00\u001b[0m\n",
            "\u001b[?25h  Preparing metadata (setup.py) ... \u001b[?25l\u001b[?25hdone\n",
            "Requirement already satisfied: py4j==0.10.9.7 in /usr/local/lib/python3.10/dist-packages (from pyspark) (0.10.9.7)\n",
            "Building wheels for collected packages: pyspark\n",
            "  Building wheel for pyspark (setup.py) ... \u001b[?25l\u001b[?25hdone\n",
            "  Created wheel for pyspark: filename=pyspark-3.5.1-py2.py3-none-any.whl size=317488491 sha256=dfbca17ab2acd0ee2e724a894f7640da10d3471cb0cdf3657d48540b35f90c81\n",
            "  Stored in directory: /root/.cache/pip/wheels/80/1d/60/2c256ed38dddce2fdd93be545214a63e02fbd8d74fb0b7f3a6\n",
            "Successfully built pyspark\n",
            "Installing collected packages: pyspark\n",
            "Successfully installed pyspark-3.5.1\n"
          ]
        }
      ],
      "source": [
        "!pip install pyspark\n"
      ]
    },
    {
      "cell_type": "code",
      "source": [
        "import pyspark\n",
        "from pyspark.sql import SparkSession\n",
        "from pyspark.sql.functions import sum, avg, when, max,year, month, countDistinct\n",
        "from pyspark.sql.functions import col\n",
        "from pyspark.sql import functions as F\n",
        "import pandas as pd"
      ],
      "metadata": {
        "id": "ZtvuCDSE_Ym5"
      },
      "execution_count": 2,
      "outputs": []
    },
    {
      "cell_type": "code",
      "source": [
        "spark = SparkSession.builder.appName(\"Homework_02\").getOrCreate()\n"
      ],
      "metadata": {
        "id": "qBr2IUPc_aPy"
      },
      "execution_count": 3,
      "outputs": []
    },
    {
      "cell_type": "code",
      "source": [
        "data = {'id': [1, 2, 3, 4], 'Name': ['Joe', 'Henry', 'Sam', 'Max'],\n",
        "        'Salary':['70', '80', '60', '90'], 'ManagerId':['3', '4', 'Null', \"Null\"]}\n",
        "df = pd.DataFrame(data)\n",
        "df_pyspark = spark.createDataFrame(df)\n",
        "df_pyspark.show()"
      ],
      "metadata": {
        "colab": {
          "base_uri": "https://localhost:8080/"
        },
        "id": "ePQzmueu_j4J",
        "outputId": "9b170152-9ab2-4598-dc10-98657ec55b61"
      },
      "execution_count": 7,
      "outputs": [
        {
          "output_type": "stream",
          "name": "stdout",
          "text": [
            "+---+-----+------+---------+\n",
            "| id| Name|Salary|ManagerId|\n",
            "+---+-----+------+---------+\n",
            "|  1|  Joe|    70|        3|\n",
            "|  2|Henry|    80|        4|\n",
            "|  3|  Sam|    60|     Null|\n",
            "|  4|  Max|    90|     Null|\n",
            "+---+-----+------+---------+\n",
            "\n"
          ]
        }
      ]
    },
    {
      "cell_type": "code",
      "source": [
        "df_pyspark = df_pyspark.withColumn('Salary',df_pyspark.Salary.cast('int'))\n",
        "df_pyspark = df_pyspark.withColumn(\"ManagerId\", df_pyspark[\"ManagerId\"].cast(\"int\"))\n"
      ],
      "metadata": {
        "id": "nokySPIYDX0l"
      },
      "execution_count": 10,
      "outputs": []
    },
    {
      "cell_type": "code",
      "source": [
        "# Объединение DataFrame с самим собой по столбцам 'id' и 'ManagerId', выбирая строки, где зарплата сотрудника больше зарплаты его менеджера\n",
        "result = df_pyspark.alias(\"employee\").join(df_pyspark.alias(\"manager\"), col(\"employee.ManagerId\") == col(\"manager.id\"), \"inner\") \\\n",
        "    .where(col(\"employee.Salary\") > col(\"manager.Salary\")) \\\n",
        "    .select(\"employee.Name\", \"employee.Salary\")\n",
        "# Вывод результата в табличном формате: имя искомого сотрудника и его зарплата\n",
        "result.show()"
      ],
      "metadata": {
        "colab": {
          "base_uri": "https://localhost:8080/"
        },
        "id": "exAOtX91zIGX",
        "outputId": "6c95ab59-5e01-46ef-dd6b-d03d4da7eed8"
      },
      "execution_count": 13,
      "outputs": [
        {
          "output_type": "stream",
          "name": "stdout",
          "text": [
            "+----+------+\n",
            "|Name|Salary|\n",
            "+----+------+\n",
            "| Joe|    70|\n",
            "+----+------+\n",
            "\n"
          ]
        }
      ]
    },
    {
      "cell_type": "code",
      "source": [
        "# Вывод имени в табличном формате\n",
        "result.select('Name').show()"
      ],
      "metadata": {
        "colab": {
          "base_uri": "https://localhost:8080/"
        },
        "id": "vF72NwFb61W0",
        "outputId": "0fc1250c-695a-46fe-fad9-3ae07c11224a"
      },
      "execution_count": 14,
      "outputs": [
        {
          "output_type": "stream",
          "name": "stdout",
          "text": [
            "+----+\n",
            "|Name|\n",
            "+----+\n",
            "| Joe|\n",
            "+----+\n",
            "\n"
          ]
        }
      ]
    },
    {
      "cell_type": "code",
      "source": [
        "# Вывод имени\n",
        "result.select('Name').collect()[0]['Name']\n"
      ],
      "metadata": {
        "colab": {
          "base_uri": "https://localhost:8080/",
          "height": 35
        },
        "id": "fztskTTmM1kf",
        "outputId": "a1a3401a-6374-44b4-eec1-5011688f2953"
      },
      "execution_count": 17,
      "outputs": [
        {
          "output_type": "execute_result",
          "data": {
            "text/plain": [
              "'Joe'"
            ],
            "application/vnd.google.colaboratory.intrinsic+json": {
              "type": "string"
            }
          },
          "metadata": {},
          "execution_count": 17
        }
      ]
    }
  ]
}