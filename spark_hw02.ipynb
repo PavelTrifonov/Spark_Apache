{
  "nbformat": 4,
  "nbformat_minor": 0,
  "metadata": {
    "colab": {
      "provenance": []
    },
    "kernelspec": {
      "name": "python3",
      "display_name": "Python 3"
    },
    "language_info": {
      "name": "python"
    }
  },
  "cells": [
    {
      "cell_type": "code",
      "execution_count": 45,
      "metadata": {
        "colab": {
          "base_uri": "https://localhost:8080/"
        },
        "id": "5SzDJ70M_PrM",
        "outputId": "a54396cf-6cfd-46ba-8a5f-4bcad272f0be"
      },
      "outputs": [
        {
          "output_type": "stream",
          "name": "stdout",
          "text": [
            "Requirement already satisfied: pyspark in /usr/local/lib/python3.10/dist-packages (3.5.1)\n",
            "Requirement already satisfied: py4j==0.10.9.7 in /usr/local/lib/python3.10/dist-packages (from pyspark) (0.10.9.7)\n"
          ]
        }
      ],
      "source": [
        "!pip install pyspark\n"
      ]
    },
    {
      "cell_type": "code",
      "source": [
        "import pyspark\n",
        "from pyspark.sql import SparkSession\n",
        "from pyspark.sql.functions import sum, avg, when, max,year, month, countDistinct\n",
        "from pyspark.sql.functions import col\n",
        "from pyspark.sql import functions as F\n",
        "import pandas as pd"
      ],
      "metadata": {
        "id": "ZtvuCDSE_Ym5"
      },
      "execution_count": 46,
      "outputs": []
    },
    {
      "cell_type": "code",
      "source": [
        "spark = SparkSession.builder.appName(\"Homework_02\").getOrCreate()\n"
      ],
      "metadata": {
        "id": "qBr2IUPc_aPy"
      },
      "execution_count": 47,
      "outputs": []
    },
    {
      "cell_type": "code",
      "source": [
        "data = {'id': [1, 2, 3, 4, 5], 'Name': ['Joe', 'Henry', 'Sam', 'Max', 'Petr'],\n",
        "        'Salary':['70', '80', '60', '90', '85'], 'ManagerId':['3', '4', 'Null', \"Null\", 'Null']}\n",
        "df = pd.DataFrame(data)\n",
        "df_pyspark = spark.createDataFrame(df)\n",
        "df_pyspark.show()"
      ],
      "metadata": {
        "colab": {
          "base_uri": "https://localhost:8080/"
        },
        "id": "ePQzmueu_j4J",
        "outputId": "4092664c-41e3-40af-e4f2-144359b26fdd"
      },
      "execution_count": 52,
      "outputs": [
        {
          "output_type": "stream",
          "name": "stdout",
          "text": [
            "+---+-----+------+---------+\n",
            "| id| Name|Salary|ManagerId|\n",
            "+---+-----+------+---------+\n",
            "|  1|  Joe|    70|        3|\n",
            "|  2|Henry|    80|        4|\n",
            "|  3|  Sam|    60|     Null|\n",
            "|  4|  Max|    90|     Null|\n",
            "|  5| Petr|    85|     Null|\n",
            "+---+-----+------+---------+\n",
            "\n"
          ]
        }
      ]
    },
    {
      "cell_type": "code",
      "source": [
        "df_pyspark = df_pyspark.withColumn('Salary',df_pyspark.Salary.cast('int'))\n"
      ],
      "metadata": {
        "id": "nokySPIYDX0l"
      },
      "execution_count": 49,
      "outputs": []
    },
    {
      "cell_type": "code",
      "source": [
        "max_salary_manager = df_pyspark.where(df_pyspark.ManagerId!='Null').agg(max(df_pyspark.Salary)).collect()[0]['max(Salary)']\n",
        "max_salary_manager"
      ],
      "metadata": {
        "colab": {
          "base_uri": "https://localhost:8080/"
        },
        "id": "exAOtX91zIGX",
        "outputId": "66005afc-d7c0-41fe-a813-df01eff724e1"
      },
      "execution_count": 50,
      "outputs": [
        {
          "output_type": "execute_result",
          "data": {
            "text/plain": [
              "80"
            ]
          },
          "metadata": {},
          "execution_count": 50
        }
      ]
    },
    {
      "cell_type": "code",
      "source": [
        "max_salary_employees = df_pyspark.where(df_pyspark.ManagerId=='Null').filter(col('Salary')>max_salary_manager)\n",
        "max_salary_employees['id','Name','Salary'].show()"
      ],
      "metadata": {
        "colab": {
          "base_uri": "https://localhost:8080/"
        },
        "id": "vF72NwFb61W0",
        "outputId": "6c649a54-3277-455a-ca1c-bc15b456cf7c"
      },
      "execution_count": 51,
      "outputs": [
        {
          "output_type": "stream",
          "name": "stdout",
          "text": [
            "+---+----+------+\n",
            "| id|Name|Salary|\n",
            "+---+----+------+\n",
            "|  4| Max|    90|\n",
            "|  5|Petr|    85|\n",
            "+---+----+------+\n",
            "\n"
          ]
        }
      ]
    }
  ]
}