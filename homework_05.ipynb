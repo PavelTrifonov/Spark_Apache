{
 "cells": [
  {
   "cell_type": "markdown",
   "metadata": {},
   "source": [
    "Задание:\n",
    "\n",
    "— Используя Spark прочитайте данные из файла csv.\n",
    "— Фильтруйте данные, чтобы оставить только книги, продажи которых превышают 3000 экземпляров.\n",
    "— Сгруппируйте данные по жанру и вычислите общий объем продаж для каждого жанра.\n",
    "— Отсортируйте данные по общему объему продаж в порядке убывания.\n",
    "— Выведите результаты на экран."
   ]
  },
  {
   "cell_type": "code",
   "execution_count": 23,
   "metadata": {},
   "outputs": [],
   "source": [
    "from pyspark.sql import SparkSession\n",
    "from pyspark.sql.functions import sum, window, when, col, desc"
   ]
  },
  {
   "cell_type": "code",
   "execution_count": 13,
   "metadata": {},
   "outputs": [],
   "source": [
    "sc = spark = (  \n",
    "        SparkSession.builder  \n",
    "        .master(\"local\")  \n",
    "        .appName(\"Homework_05\")\n",
    "        .getOrCreate()  \n",
    "        )  "
   ]
  },
  {
   "cell_type": "code",
   "execution_count": 16,
   "metadata": {},
   "outputs": [
    {
     "name": "stdout",
     "output_type": "stream",
     "text": [
      "+--------------------+-------------------+---------------+-----+----+\n",
      "|               title|             author|          genre|sales|year|\n",
      "+--------------------+-------------------+---------------+-----+----+\n",
      "|                1984|      George Orwell|Science Fiction| 5000|1949|\n",
      "|The Lord of the R...|     J.R.R. Tolkien|        Fantasy| 3000|1954|\n",
      "|To Kill a Mocking...|         Harper Lee|Southern Gothic| 4000|1960|\n",
      "|The Catcher in th...|      J.D. Salinger|          Novel| 2000|1951|\n",
      "|    The Great Gatsby|F. Scott Fitzgerald|          Novel| 4500|1925|\n",
      "+--------------------+-------------------+---------------+-----+----+\n",
      "\n"
     ]
    }
   ],
   "source": [
    "spark_df = sc.read.csv('hw05.csv',sep=\",\", header=True)\n",
    "spark_df.show()"
   ]
  },
  {
   "cell_type": "code",
   "execution_count": 17,
   "metadata": {},
   "outputs": [
    {
     "name": "stdout",
     "output_type": "stream",
     "text": [
      "+--------------------+-------------------+---------------+-----+----+\n",
      "|               title|             author|          genre|sales|year|\n",
      "+--------------------+-------------------+---------------+-----+----+\n",
      "|                1984|      George Orwell|Science Fiction| 5000|1949|\n",
      "|To Kill a Mocking...|         Harper Lee|Southern Gothic| 4000|1960|\n",
      "|    The Great Gatsby|F. Scott Fitzgerald|          Novel| 4500|1925|\n",
      "+--------------------+-------------------+---------------+-----+----+\n",
      "\n"
     ]
    }
   ],
   "source": [
    "spark_filter = spark_df.filter(col('sales')>3000)\n",
    "spark_filter.show()"
   ]
  },
  {
   "cell_type": "code",
   "execution_count": 24,
   "metadata": {},
   "outputs": [
    {
     "name": "stdout",
     "output_type": "stream",
     "text": [
      "+---------------+-----------+\n",
      "|          genre|total_sales|\n",
      "+---------------+-----------+\n",
      "|Science Fiction|     5000.0|\n",
      "|          Novel|     4500.0|\n",
      "|Southern Gothic|     4000.0|\n",
      "+---------------+-----------+\n",
      "\n"
     ]
    }
   ],
   "source": [
    "spark_group = spark_filter.groupBy(\"genre\").agg(sum('sales').alias('total_sales')).orderBy(desc('total_sales'))\n",
    "spark_group.show()"
   ]
  },
  {
   "cell_type": "code",
   "execution_count": null,
   "metadata": {},
   "outputs": [],
   "source": []
  }
 ],
 "metadata": {
  "kernelspec": {
   "display_name": "Python 3",
   "language": "python",
   "name": "python3"
  },
  "language_info": {
   "codemirror_mode": {
    "name": "ipython",
    "version": 3
   },
   "file_extension": ".py",
   "mimetype": "text/x-python",
   "name": "python",
   "nbconvert_exporter": "python",
   "pygments_lexer": "ipython3",
   "version": "3.11.3"
  }
 },
 "nbformat": 4,
 "nbformat_minor": 2
}
