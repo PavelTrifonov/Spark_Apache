{
  "nbformat": 4,
  "nbformat_minor": 0,
  "metadata": {
    "colab": {
      "provenance": []
    },
    "kernelspec": {
      "name": "python3",
      "display_name": "Python 3"
    },
    "language_info": {
      "name": "python"
    }
  },
  "cells": [
    {
      "cell_type": "code",
      "source": [
        "!pip install pyspark >> None"
      ],
      "metadata": {
        "colab": {
          "base_uri": "https://localhost:8080/"
        },
        "id": "zeMXT4LLLDy6",
        "outputId": "4f39fc91-b9b1-4b17-a837-f58fe931e0b9"
      },
      "execution_count": 1,
      "outputs": [
        {
          "output_type": "stream",
          "name": "stdout",
          "text": [
            "Collecting pyspark\n",
            "  Downloading pyspark-3.5.1.tar.gz (317.0 MB)\n",
            "\u001b[2K     \u001b[90m━━━━━━━━━━━━━━━━━━━━━━━━━━━━━━━━━━━━━━━━\u001b[0m \u001b[32m317.0/317.0 MB\u001b[0m \u001b[31m1.8 MB/s\u001b[0m eta \u001b[36m0:00:00\u001b[0m\n",
            "\u001b[?25h  Preparing metadata (setup.py) ... \u001b[?25l\u001b[?25hdone\n",
            "Requirement already satisfied: py4j==0.10.9.7 in /usr/local/lib/python3.10/dist-packages (from pyspark) (0.10.9.7)\n",
            "Building wheels for collected packages: pyspark\n",
            "  Building wheel for pyspark (setup.py) ... \u001b[?25l\u001b[?25hdone\n",
            "  Created wheel for pyspark: filename=pyspark-3.5.1-py2.py3-none-any.whl size=317488491 sha256=42789143980ad0e091fb9528d11404c77f01e14e18e29ca475f1f474150b1b68\n",
            "  Stored in directory: /root/.cache/pip/wheels/80/1d/60/2c256ed38dddce2fdd93be545214a63e02fbd8d74fb0b7f3a6\n",
            "Successfully built pyspark\n",
            "Installing collected packages: pyspark\n",
            "Successfully installed pyspark-3.5.1\n"
          ]
        }
      ]
    },
    {
      "cell_type": "code",
      "execution_count": 2,
      "metadata": {
        "colab": {
          "base_uri": "https://localhost:8080/"
        },
        "id": "lBRkQEQ4K-gm",
        "outputId": "fdce5e06-032f-4281-e9a4-5e72ce2f8ca1"
      },
      "outputs": [
        {
          "output_type": "stream",
          "name": "stdout",
          "text": [
            "+---+----+\n",
            "| ID|Name|\n",
            "+---+----+\n",
            "|  1|John|\n",
            "|  2|Mike|\n",
            "+---+----+\n",
            "\n",
            "+---+----+\n",
            "| ID|Name|\n",
            "+---+----+\n",
            "|  3|Sara|\n",
            "|  4| Tom|\n",
            "+---+----+\n",
            "\n"
          ]
        }
      ],
      "source": [
        "from pyspark.sql import SparkSession\n",
        "\n",
        "# Создание первой сессии\n",
        "spark1 = SparkSession.builder \\\n",
        "    .appName(\"FirstSession\") \\\n",
        "    .getOrCreate()\n",
        "\n",
        "# Создание второй сессии\n",
        "spark2 = SparkSession.builder \\\n",
        "    .appName(\"SecondSession\") \\\n",
        "    .getOrCreate()\n",
        "\n",
        "# Пример использования первой сессии\n",
        "df1 = spark1.createDataFrame([(1, \"John\"), (2, \"Mike\")], [\"ID\", \"Name\"])\n",
        "df1.show()\n",
        "\n",
        "# Пример использования второй сессии\n",
        "df2 = spark2.createDataFrame([(3, \"Sara\"), (4, \"Tom\")], [\"ID\", \"Name\"])\n",
        "df2.show()"
      ]
    },
    {
      "cell_type": "code",
      "source": [
        "# Закрытие сессий после использования\n",
        "spark1.stop()\n",
        "spark2.stop()"
      ],
      "metadata": {
        "id": "GBwgxOczLeHC"
      },
      "execution_count": 3,
      "outputs": []
    },
    {
      "cell_type": "code",
      "source": [],
      "metadata": {
        "id": "g4SaMD6PLkB-"
      },
      "execution_count": null,
      "outputs": []
    }
  ]
}